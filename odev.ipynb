{
 "cells": [
  {
   "cell_type": "code",
   "execution_count": 1,
   "id": "3ce39c3d",
   "metadata": {},
   "outputs": [],
   "source": [
    "import numpy as np\n",
    "import pandas as pd"
   ]
  },
  {
   "cell_type": "code",
   "execution_count": 2,
   "id": "acd09387",
   "metadata": {},
   "outputs": [],
   "source": [
    "# Class6-Data_Manipulation-Module-Week18\n",
    "\n",
    "# DATA MANIPULATION WEEK-18 ASSIGNMENT"
   ]
  },
  {
   "cell_type": "code",
   "execution_count": null,
   "id": "cd8be014",
   "metadata": {},
   "outputs": [],
   "source": [
    "# 1. Numpy’da Vektor ve Matrisin farkini tek cumle ile ifade ediniz.\n",
    "# A vector is a one-dimensional array of lists. \n",
    "# A matrix is a two-dimensional data structure where numbers are arranged into rows and columns. "
   ]
  },
  {
   "cell_type": "code",
   "execution_count": 6,
   "id": "2004fa98",
   "metadata": {},
   "outputs": [
    {
     "data": {
      "text/plain": [
       "array([1, 2, 3, 4, 5, 6, 7, 8, 9, 0])"
      ]
     },
     "execution_count": 6,
     "metadata": {},
     "output_type": "execute_result"
    }
   ],
   "source": [
    "# 2. 10 elemanli bir listeden NumPy Array’i olusturunuz.\n",
    "list = [1,2,3,4,5,6,7,8,9,0]\n",
    "np.array(list)\n"
   ]
  },
  {
   "cell_type": "code",
   "execution_count": 5,
   "id": "30f681eb",
   "metadata": {},
   "outputs": [
    {
     "data": {
      "text/plain": [
       "array([[0, 0, 0, 0, 0, 0, 0, 0, 0, 0],\n",
       "       [0, 0, 0, 0, 0, 0, 0, 0, 0, 0],\n",
       "       [0, 0, 0, 0, 0, 0, 0, 0, 0, 0],\n",
       "       [0, 0, 0, 0, 0, 0, 0, 0, 0, 0],\n",
       "       [0, 0, 0, 0, 0, 0, 0, 0, 0, 0],\n",
       "       [0, 0, 0, 0, 0, 0, 0, 0, 0, 0],\n",
       "       [0, 0, 0, 0, 0, 0, 0, 0, 0, 0],\n",
       "       [0, 0, 0, 0, 0, 0, 0, 0, 0, 0],\n",
       "       [0, 0, 0, 0, 0, 0, 0, 0, 0, 0],\n",
       "       [0, 0, 0, 0, 0, 0, 0, 0, 0, 0]])"
      ]
     },
     "execution_count": 5,
     "metadata": {},
     "output_type": "execute_result"
    }
   ],
   "source": [
    "# 3. Icerisinde ‘0’ lar olan, ve veri tipi integer olan 10X10’luk bir matris olusturunuz.\n",
    "np.zeros((10,10), dtype = 'int32')\n"
   ]
  },
  {
   "cell_type": "code",
   "execution_count": 8,
   "id": "94b524c7",
   "metadata": {},
   "outputs": [
    {
     "data": {
      "text/plain": [
       "array([[1, 1, 1, 1, 1, 1, 1, 1, 1, 1],\n",
       "       [1, 1, 1, 1, 1, 1, 1, 1, 1, 1],\n",
       "       [1, 1, 1, 1, 1, 1, 1, 1, 1, 1],\n",
       "       [1, 1, 1, 1, 1, 1, 1, 1, 1, 1],\n",
       "       [1, 1, 1, 1, 1, 1, 1, 1, 1, 1],\n",
       "       [1, 1, 1, 1, 1, 1, 1, 1, 1, 1],\n",
       "       [1, 1, 1, 1, 1, 1, 1, 1, 1, 1],\n",
       "       [1, 1, 1, 1, 1, 1, 1, 1, 1, 1],\n",
       "       [1, 1, 1, 1, 1, 1, 1, 1, 1, 1],\n",
       "       [1, 1, 1, 1, 1, 1, 1, 1, 1, 1]])"
      ]
     },
     "execution_count": 8,
     "metadata": {},
     "output_type": "execute_result"
    }
   ],
   "source": [
    "# 4. Icerisinde ‘1’ ler olan, veri tipi float olan 10X10’luk bir matris olusturunuz.\n",
    "np.ones((10,10),dtype = 'int32')"
   ]
  },
  {
   "cell_type": "code",
   "execution_count": 9,
   "id": "b6ec8707",
   "metadata": {},
   "outputs": [
    {
     "data": {
      "text/plain": [
       "array([[9, 9, 9, 9, 9, 9, 9, 9, 9, 9],\n",
       "       [9, 9, 9, 9, 9, 9, 9, 9, 9, 9],\n",
       "       [9, 9, 9, 9, 9, 9, 9, 9, 9, 9],\n",
       "       [9, 9, 9, 9, 9, 9, 9, 9, 9, 9],\n",
       "       [9, 9, 9, 9, 9, 9, 9, 9, 9, 9],\n",
       "       [9, 9, 9, 9, 9, 9, 9, 9, 9, 9],\n",
       "       [9, 9, 9, 9, 9, 9, 9, 9, 9, 9],\n",
       "       [9, 9, 9, 9, 9, 9, 9, 9, 9, 9],\n",
       "       [9, 9, 9, 9, 9, 9, 9, 9, 9, 9],\n",
       "       [9, 9, 9, 9, 9, 9, 9, 9, 9, 9]])"
      ]
     },
     "execution_count": 9,
     "metadata": {},
     "output_type": "execute_result"
    }
   ],
   "source": [
    "# 5.\tIcerisinde ‘9’ lar olan, veri tipi integer olan 10X10’luk bir matris olusturunuz.\n",
    "np.full((10,10),9)\n"
   ]
  },
  {
   "cell_type": "code",
   "execution_count": 11,
   "id": "93c37eb0",
   "metadata": {},
   "outputs": [
    {
     "data": {
      "text/plain": [
       "array([ 5,  8, 11, 14, 17, 20, 23])"
      ]
     },
     "execution_count": 11,
     "metadata": {},
     "output_type": "execute_result"
    }
   ],
   "source": [
    "# 6.\t5 ile 25 arasinda, 3’er 3’er atlayan tek boyutlu bir Array olusturunuz.\n",
    "np.arange(5,25,3)"
   ]
  },
  {
   "cell_type": "code",
   "execution_count": 12,
   "id": "3cf33506",
   "metadata": {},
   "outputs": [
    {
     "data": {
      "text/plain": [
       "array([-1.        , -0.93103448, -0.86206897, -0.79310345, -0.72413793,\n",
       "       -0.65517241, -0.5862069 , -0.51724138, -0.44827586, -0.37931034,\n",
       "       -0.31034483, -0.24137931, -0.17241379, -0.10344828, -0.03448276,\n",
       "        0.03448276,  0.10344828,  0.17241379,  0.24137931,  0.31034483,\n",
       "        0.37931034,  0.44827586,  0.51724138,  0.5862069 ,  0.65517241,\n",
       "        0.72413793,  0.79310345,  0.86206897,  0.93103448,  1.        ])"
      ]
     },
     "execution_count": 12,
     "metadata": {},
     "output_type": "execute_result"
    }
   ],
   "source": [
    "# 7. -1 ile 1 arasinda 30 adet Array olusturunuz.\n",
    "np.linspace(-1,1,30)"
   ]
  },
  {
   "cell_type": "code",
   "execution_count": 13,
   "id": "761afcfa",
   "metadata": {},
   "outputs": [
    {
     "data": {
      "text/plain": [
       "array([[24, 20, 24, 17,  7, 26],\n",
       "       [18, 17, 23,  9, 21,  4],\n",
       "       [27, 28, 10,  3, 26, 17],\n",
       "       [28, 20, 13, 16, 24, 17],\n",
       "       [ 3,  8,  1, 25,  2,  5]])"
      ]
     },
     "execution_count": 13,
     "metadata": {},
     "output_type": "execute_result"
    }
   ],
   "source": [
    "# 8.\t0 ile 30 arasinda 5x6’lik bir matris olusturun.\n",
    "np.random.randint(0,30,(5,6))"
   ]
  },
  {
   "cell_type": "code",
   "execution_count": 14,
   "id": "1bc288f3",
   "metadata": {},
   "outputs": [
    {
     "data": {
      "text/plain": [
       "array([[1., 0., 0., 0., 0., 0., 0., 0., 0., 0.],\n",
       "       [0., 1., 0., 0., 0., 0., 0., 0., 0., 0.],\n",
       "       [0., 0., 1., 0., 0., 0., 0., 0., 0., 0.],\n",
       "       [0., 0., 0., 1., 0., 0., 0., 0., 0., 0.],\n",
       "       [0., 0., 0., 0., 1., 0., 0., 0., 0., 0.],\n",
       "       [0., 0., 0., 0., 0., 1., 0., 0., 0., 0.],\n",
       "       [0., 0., 0., 0., 0., 0., 1., 0., 0., 0.],\n",
       "       [0., 0., 0., 0., 0., 0., 0., 1., 0., 0.],\n",
       "       [0., 0., 0., 0., 0., 0., 0., 0., 1., 0.],\n",
       "       [0., 0., 0., 0., 0., 0., 0., 0., 0., 1.]])"
      ]
     },
     "execution_count": 14,
     "metadata": {},
     "output_type": "execute_result"
    }
   ],
   "source": [
    "# 9.\tKosegenleri 1 olan 10x10’luk bir matris olusturunuz. \n",
    "np.eye(10)"
   ]
  },
  {
   "cell_type": "code",
   "execution_count": 16,
   "id": "4ecc8157",
   "metadata": {},
   "outputs": [
    {
     "name": "stdout",
     "output_type": "stream",
     "text": [
      "2\n",
      "(5, 10)\n",
      "50\n",
      "int32\n"
     ]
    }
   ],
   "source": [
    "# 10. 0 ile 10 arasinda 5x10’lik bir matris olusturun. (integer) ve bu matrisin;\n",
    "x = np.random.randint(0,10,(5,10))\n",
    "\n",
    "#* a. eleman sayisini \n",
    "print(x.ndim)\n",
    "\n",
    "#* b. boyut bilgisini/sayisini\n",
    "print(x.shape)\n",
    "\n",
    "#* c. satir X sutun bilgisini \n",
    "print(x.size)\n",
    "\n",
    "#* d. veri tipini numpy metodlariyla yazdiriniz.\n",
    "print(a.dtype)\n"
   ]
  },
  {
   "cell_type": "code",
   "execution_count": 18,
   "id": "782cbee8",
   "metadata": {},
   "outputs": [
    {
     "data": {
      "text/plain": [
       "array([[[0, 2, 4],\n",
       "        [3, 7, 1],\n",
       "        [2, 1, 7],\n",
       "        [3, 4, 9],\n",
       "        [1, 7, 2],\n",
       "        [9, 2, 4],\n",
       "        [1, 6, 7]],\n",
       "\n",
       "       [[2, 0, 7],\n",
       "        [7, 2, 7],\n",
       "        [8, 3, 7],\n",
       "        [1, 5, 8],\n",
       "        [9, 8, 7],\n",
       "        [8, 9, 3],\n",
       "        [4, 9, 2]],\n",
       "\n",
       "       [[0, 5, 8],\n",
       "        [4, 1, 3],\n",
       "        [1, 0, 2],\n",
       "        [1, 7, 1],\n",
       "        [5, 1, 9],\n",
       "        [8, 5, 0],\n",
       "        [1, 7, 0]],\n",
       "\n",
       "       [[6, 6, 6],\n",
       "        [7, 7, 4],\n",
       "        [4, 9, 1],\n",
       "        [6, 1, 7],\n",
       "        [9, 2, 1],\n",
       "        [6, 0, 0],\n",
       "        [9, 5, 1]]])"
      ]
     },
     "execution_count": 18,
     "metadata": {},
     "output_type": "execute_result"
    }
   ],
   "source": [
    "# 11. 0 ile 10 arasindaki degerlerden olusan 3 adet 4x7’lik bir matris olusturunuz. (3 boyutlu bir matris olusturulacak)\n",
    "np.random.randint(0,10,size = (4,7,3))\n"
   ]
  },
  {
   "cell_type": "code",
   "execution_count": 22,
   "id": "7ffa7887",
   "metadata": {},
   "outputs": [
    {
     "data": {
      "text/plain": [
       "array([[1, 2, 3],\n",
       "       [4, 5, 6],\n",
       "       [7, 8, 9]])"
      ]
     },
     "execution_count": 22,
     "metadata": {},
     "output_type": "execute_result"
    }
   ],
   "source": [
    "# 12. Bir vektor olusturunuz ve daha sonrasinda ayni vektoru bir matrise ceviriniz. (boyut sayisini degistirin.)\n",
    "np.arange(1,10)\n",
    "np.arange(1,10).reshape(3,3)\n"
   ]
  },
  {
   "cell_type": "code",
   "execution_count": 23,
   "id": "fca1f5e4",
   "metadata": {},
   "outputs": [
    {
     "data": {
      "text/plain": [
       "array([1, 2, 3, 4, 5, 6, 7, 8])"
      ]
     },
     "execution_count": 23,
     "metadata": {},
     "output_type": "execute_result"
    }
   ],
   "source": [
    "# 13. 4 tane ayri tek boyutlu array’i birlestirerek bir array olusturunuz.\n",
    "x = np.array([1, 2])\n",
    "y = np.array([3, 4])\n",
    "z = np.array([5, 6])\n",
    "t = np.array([7, 8])\n",
    "\n",
    "np.concatenate([x,y,z,t])\n"
   ]
  },
  {
   "cell_type": "code",
   "execution_count": 43,
   "id": "67e5cc6d",
   "metadata": {},
   "outputs": [
    {
     "data": {
      "text/plain": [
       "array([[ 9,  6,  1, 17, 13, 15],\n",
       "       [ 7,  5,  7, 15, 12, 14]])"
      ]
     },
     "execution_count": 43,
     "metadata": {},
     "output_type": "execute_result"
    }
   ],
   "source": [
    "# 14. 2 boyutlu bir vektor ve bir matris olusturun(ayri ayri), bu iki arrayi numpy metodlarini kullanarak sutun bazli birlestiriniz,\n",
    "a = np.random.randint(0,10, size = (2,3))\n",
    "b = np.random.randint(11,20, size = (2,3))\n",
    "np.concatenate([a,b],axis = 1)"
   ]
  },
  {
   "cell_type": "code",
   "execution_count": 61,
   "id": "3623bafc",
   "metadata": {},
   "outputs": [
    {
     "data": {
      "text/plain": [
       "array([[ 0,  1,  2,  3, 13, 14, 15, 16],\n",
       "       [ 4,  5,  6,  7, 17, 18, 19, 20],\n",
       "       [ 8,  9, 10, 11, 21, 22, 23, 24]])"
      ]
     },
     "execution_count": 61,
     "metadata": {},
     "output_type": "execute_result"
    }
   ],
   "source": [
    "a = np.arange(0,12).reshape(3,4)\n",
    "b = np.arange(13,25).reshape(3,4)\n",
    "np.concatenate([a,b],axis = 1)"
   ]
  },
  {
   "cell_type": "code",
   "execution_count": 55,
   "id": "4a8bc1f4",
   "metadata": {},
   "outputs": [],
   "source": [
    "# 15. Numpy’da “axis=1” ve “axis=0” arasinda ne fark vardir. Teorik olarak yaziniz?\n"
   ]
  },
  {
   "cell_type": "code",
   "execution_count": 47,
   "id": "96188f71",
   "metadata": {},
   "outputs": [],
   "source": [
    "# 16. Farkli boyutlardaki arraylari satir ve sutun bazli ayri ayri birlestiriniz."
   ]
  },
  {
   "cell_type": "code",
   "execution_count": 63,
   "id": "b6becbdb",
   "metadata": {},
   "outputs": [
    {
     "data": {
      "text/plain": [
       "[array([0, 1]), array([2, 3]), array([4, 5]), array([6, 7]), array([8, 9])]"
      ]
     },
     "execution_count": 63,
     "metadata": {},
     "output_type": "execute_result"
    }
   ],
   "source": [
    "# 17. 10 elemanli bi liste olusturunuz ve bu listeyi Numpy metodlariyla bolerek(split) 4 ayri array olusturunuz.\n",
    "a = np.arange(0,10)\n",
    "np.split(a,5)"
   ]
  },
  {
   "cell_type": "code",
   "execution_count": 77,
   "id": "5b0cf781",
   "metadata": {},
   "outputs": [
    {
     "name": "stdout",
     "output_type": "stream",
     "text": [
      "[9 0 9 0 8 5 3 9 4 2 8 5 6 7 3]\n",
      "[9 2 4 9 6 9 1 0 6 7 4 2 0 0 4]\n",
      "index of 0 is 0\n",
      "index of 1 is 0\n",
      "index of 2 is 2\n",
      "index of 3 is 3\n",
      "index of 4 is 3\n",
      "index of 5 is 4\n",
      "index of 6 is 5\n",
      "index of 7 is 5\n",
      "index of 8 is 6\n",
      "index of 9 is 7\n",
      "index of 10 is 8\n",
      "index of 11 is 8\n",
      "index of 12 is 9\n",
      "index of 13 is 9\n",
      "index of 14 is 9\n"
     ]
    }
   ],
   "source": [
    "# 18. Random bir array olusturunuz ve bu arrayi buyukten kucuge dogru siralayiniz. Sonra hangi elemanin hangi indexte oldugunu gosteren bir metod uygulayiniz.\n",
    "b = np.random.randint(0,10,15)\n",
    "b_s = np.sort(b[::-1])\n",
    "for i in range (len(b_s)):\n",
    "    print(\"index of {} is {}\".format(i,b_s[i]))\n",
    "          "
   ]
  },
  {
   "cell_type": "code",
   "execution_count": 79,
   "id": "cc8ab099",
   "metadata": {},
   "outputs": [
    {
     "data": {
      "text/plain": [
       "(1, 8, 13)"
      ]
     },
     "execution_count": 79,
     "metadata": {},
     "output_type": "execute_result"
    }
   ],
   "source": [
    "# 19. 20 elemanli random bir vektor olusturunuz. Bu vektorun 3. 5. ve 7. elemanlarina ulasin.\n",
    "a = np.random.randint(0,20,20)\n",
    "a[3], a[5], a[7]\n"
   ]
  },
  {
   "cell_type": "code",
   "execution_count": 82,
   "id": "4080f17e",
   "metadata": {},
   "outputs": [
    {
     "data": {
      "text/plain": [
       "array([  7,   6,   0,   5, 999,   2,   2,   1,   9,   1])"
      ]
     },
     "execution_count": 82,
     "metadata": {},
     "output_type": "execute_result"
    }
   ],
   "source": [
    "# 20. 10 elemanli random bir vektor olusturunuz ve bu arrayin 4. elemanini farkli bir sayiyla degistiriniz.\n",
    "x = np.random.randint(0,10,10)\n",
    "x[4] = 999\n",
    "x"
   ]
  },
  {
   "cell_type": "code",
   "execution_count": 85,
   "id": "408a9a68",
   "metadata": {},
   "outputs": [],
   "source": [
    "# 21. “Diagonal Matrix” ve “Trace Matrix” kavramlari hakkinda bir arastirma yapip bunlarin ne oldugunu belirten kucuk bir aciklama yaziniz.\n"
   ]
  },
  {
   "cell_type": "code",
   "execution_count": 84,
   "id": "98fbf944",
   "metadata": {},
   "outputs": [
    {
     "data": {
      "text/plain": [
       "array([[1, 0, 0, 0, 0],\n",
       "       [0, 2, 0, 0, 0],\n",
       "       [0, 0, 3, 0, 0],\n",
       "       [0, 0, 0, 4, 0],\n",
       "       [0, 0, 0, 0, 5]])"
      ]
     },
     "execution_count": 84,
     "metadata": {},
     "output_type": "execute_result"
    }
   ],
   "source": [
    "# 22. 5x5’lik Diagonal bir matris olusturunuz ve Diagonaline denk gelen indexlere ulasiniz.(ayri ayri)\n",
    "np.diag([1,2,3,4,5])"
   ]
  },
  {
   "cell_type": "code",
   "execution_count": 87,
   "id": "d5271e8b",
   "metadata": {},
   "outputs": [
    {
     "data": {
      "text/plain": [
       "array([13, 14, 15, 16, 17, 18, 19])"
      ]
     },
     "execution_count": 87,
     "metadata": {},
     "output_type": "execute_result"
    }
   ],
   "source": [
    "# 23. 10 ile 20 arasinda bir vektor olusturunuz. Ve 3. indexten son indexe kadar olan degerleri yazdiriniz.\n",
    "a = np.arange(10,20)\n",
    "a[3:]"
   ]
  },
  {
   "cell_type": "code",
   "execution_count": 114,
   "id": "8c6b35f2",
   "metadata": {},
   "outputs": [
    {
     "name": "stdout",
     "output_type": "stream",
     "text": [
      "[[47 96 46 85 45 47 80 98  1 40]\n",
      " [69 11 48 65 82 33 19 84 19 96]\n",
      " [92 59 72 77 86 18 58 72 76 84]\n",
      " [55 74 25 19 19 76 10 82 92 56]\n",
      " [ 0 21 77 50 98 32  3 47 50 41]\n",
      " [20 88 49 90 80 69 50 24 96 53]\n",
      " [15 25 86 76 90 76 64 81 91 15]\n",
      " [88 56 72 34 27 16  1 67 73 17]\n",
      " [20  2 39 29 90 56 49 86 70 35]\n",
      " [42 11 89 78 42 78 33 32 31 66]]\n",
      "[47 33 18 76 32 69 76 16 56 78]\n",
      "[92 59 72 77 86 18 58 72 76 84]\n",
      "[[92 59 72 77 86 18 58 72 76 84]\n",
      " [55 74 25 19 19 76 10 82 92 56]\n",
      " [ 0 21 77 50 98 32  3 47 50 41]\n",
      " [20 88 49 90 80 69 50 24 96 53]\n",
      " [15 25 86 76 90 76 64 81 91 15]]\n",
      "[[77 86 18 58]\n",
      " [19 19 76 10]\n",
      " [50 98 32  3]]\n",
      "[[20 88 49 90]\n",
      " [15 25 86 76]\n",
      " [88 56 72 34]\n",
      " [20  2 39 29]\n",
      " [42 11 89 78]]\n",
      "[[85 80 40]\n",
      " [65 19 96]\n",
      " [77 58 84]\n",
      " [19 10 56]\n",
      " [50  3 41]\n",
      " [90 50 53]\n",
      " [76 64 15]\n",
      " [34  1 17]\n",
      " [29 49 35]\n",
      " [78 33 66]]\n",
      "1987\n",
      "[[  47   96   46   85   45   47   80   98    1   40]\n",
      " [  69   11   48   65   82   33   19   84   19   96]\n",
      " [  92   59   72   77   86   18   58   72   76   84]\n",
      " [  55   74   25   19   19   76   10   82   92   56]\n",
      " [   0   21   77   50   98   32    3   47   50   41]\n",
      " [  20   88   49   90   80 1987   50   24   96   53]\n",
      " [  15   25   86   76   90   76   64   81   91   15]\n",
      " [  88   56   72   34   27   16    1   67   73   17]\n",
      " [  20    2   39   29   90   56   49   86   70   35]\n",
      " [  42   11   89   78   42   78   33   32   31   66]]\n"
     ]
    }
   ],
   "source": [
    "# 24. 10X10 luk bir matris olusturunuz ve 3.satirin 5.sutununa ulasiniz. Ayrica;\n",
    "x = np.random.randint(0,100,100).reshape(10,10)\n",
    "print(x)\n",
    "\n",
    "# * a. 5.sutunun tum satirlarina ulasiniz. \n",
    "a = x[:,5]\n",
    "print(a)\n",
    "\n",
    "# * b. Tum sutunlarin 2.satirlarina ulasiniz. \n",
    "b = x[2,:]\n",
    "print(b)\n",
    "\n",
    "# * c. tum sutunlarin 2 ile 7 arasindaki satirlarina ulasiniz.\n",
    "c = x[2:7,:]\n",
    "print(c)\n",
    "\n",
    "# * d. satir indexi 2’den 5’e ve sutun indexi 3 den 7’ye kadar olan degerlere ulasiniz.\n",
    "d = x[2:5,3:7]\n",
    "print(d)\n",
    "\n",
    "# * e. satir indexi 5’den en sona ve sutun indexi en bastan 4’e kadar olan degerlere ulasiniz. \n",
    "e = x[5:,:4]\n",
    "print(e)\n",
    "\n",
    "# * f. sutun indexi sadece 3, 6,9 olan kolonlarin(sutunlarin), tum satirlarina ulasiniz.\n",
    "f = x[:,[3,6,9]]\n",
    "print(f)\n",
    "\n",
    "# * g. 5. indexli satir ve 5.indexli sutuna denk gelen degeri, dogum yilinizla degistiriniz.\n",
    "g = x[5,5] = 1987\n",
    "print(x)"
   ]
  },
  {
   "cell_type": "code",
   "execution_count": 124,
   "id": "0a9ea92a",
   "metadata": {},
   "outputs": [
    {
     "ename": "TypeError",
     "evalue": "'numpy.ndarray' object is not callable",
     "output_type": "error",
     "traceback": [
      "\u001b[1;31m---------------------------------------------------------------------------\u001b[0m",
      "\u001b[1;31mTypeError\u001b[0m                                 Traceback (most recent call last)",
      "\u001b[1;32m~\\AppData\\Local\\Temp/ipykernel_2084/4202969931.py\u001b[0m in \u001b[0;36m<module>\u001b[1;34m\u001b[0m\n\u001b[0;32m      3\u001b[0m \u001b[0ma\u001b[0m\u001b[1;33m\u001b[0m\u001b[1;33m\u001b[0m\u001b[0m\n\u001b[0;32m      4\u001b[0m \u001b[1;31m# * a. 20 den buyuk olan kac deger var.\u001b[0m\u001b[1;33m\u001b[0m\u001b[1;33m\u001b[0m\u001b[0m\n\u001b[1;32m----> 5\u001b[1;33m \u001b[0mlen\u001b[0m\u001b[1;33m(\u001b[0m\u001b[0ma\u001b[0m\u001b[1;33m(\u001b[0m\u001b[0mfilter\u001b[0m\u001b[1;33m(\u001b[0m\u001b[1;32mlambda\u001b[0m \u001b[0mx\u001b[0m\u001b[1;33m:\u001b[0m \u001b[0mx\u001b[0m\u001b[1;33m>\u001b[0m\u001b[1;36m20\u001b[0m\u001b[1;33m,\u001b[0m \u001b[0ma\u001b[0m\u001b[1;33m)\u001b[0m\u001b[1;33m)\u001b[0m\u001b[1;33m)\u001b[0m\u001b[1;33m\u001b[0m\u001b[1;33m\u001b[0m\u001b[0m\n\u001b[0m\u001b[0;32m      6\u001b[0m \u001b[1;33m\u001b[0m\u001b[0m\n\u001b[0;32m      7\u001b[0m \u001b[1;31m# * b. 30’dan kucuk kac deger var\u001b[0m\u001b[1;33m\u001b[0m\u001b[1;33m\u001b[0m\u001b[0m\n",
      "\u001b[1;31mTypeError\u001b[0m: 'numpy.ndarray' object is not callable"
     ]
    }
   ],
   "source": [
    "# 25. 0’dan 50’ye kadar 5’er 5’er atlayarak giden bir array olusturunuz (tek boyutlu) ve numpy metodlariyla asagidaki islemleri uygulayin;\n",
    "a = np.arange(0,50,5)\n",
    "\n",
    "# * a. 20 den buyuk olan kac deger var. \n",
    "len(list(filter(lambda x: x>20, a)))\n",
    "\n",
    "# * b. 30’dan kucuk kac deger var \n",
    "len(list(filter(lambda x: x<30, a)))\n",
    "\n",
    "# * c. icerisinde 33 gecen kac deger var \n",
    "len(list(filter(lambda x: x==33, a)))\n",
    "\n",
    "# * d. olusturulan arrayin tum elemanlarini 5 ile carpin.\n",
    "a*5\n",
    "\n",
    "# * e. olusturulan arrayin tum elemanlarinin 2 ile bolumunden kalanlari yazdiriniz.\n",
    "a%2\n"
   ]
  },
  {
   "cell_type": "code",
   "execution_count": 133,
   "id": "3f0f4e22",
   "metadata": {},
   "outputs": [
    {
     "name": "stdout",
     "output_type": "stream",
     "text": [
      "standard deviation:  0.2945075446869757\n",
      "variant:  0.086734693877551\n",
      "madian:  0.5\n",
      "minimum:  0.0\n",
      "msximum:  1.0\n"
     ]
    }
   ],
   "source": [
    "# 26. 0 ile 1 arasinda 50 elamanli bir array olusturunuz ve ortalamasini aliniz. Ayrica;\n",
    "x = np.linspace(0,1,50)\n",
    "\n",
    "# * a. standart sapmasini aliniz. \n",
    "print(\"standard deviation: \",x.std())\n",
    "\n",
    "# * b. varyansini aliniz.\n",
    "print(\"variant: \",x.var())\n",
    "\n",
    "# * c. median’ini aliniz. \n",
    "print(\"madian: \",np.median(x))\n",
    "\n",
    "# * d. en kucuk degeri bulunuz. \n",
    "print(\"minimum: \",x.min())\n",
    "\n",
    "# * e. en buyuk degeri bulunuz.\n",
    "print(\"msximum: \",x.max())"
   ]
  },
  {
   "cell_type": "code",
   "execution_count": null,
   "id": "7b5fb07b",
   "metadata": {},
   "outputs": [],
   "source": [
    "# 27.\tPandas seriler ve numpy arrayler arasindaki farklar nelerdir yaziniz.\n"
   ]
  },
  {
   "cell_type": "code",
   "execution_count": 135,
   "id": "d544efc0",
   "metadata": {},
   "outputs": [
    {
     "data": {
      "text/plain": [
       "A    1\n",
       "B    2\n",
       "C    3\n",
       "D    4\n",
       "E    5\n",
       "dtype: int32"
      ]
     },
     "execution_count": 135,
     "metadata": {},
     "output_type": "execute_result"
    }
   ],
   "source": [
    "# 28.\tIndexi buyuk harflerden olusan, icinde farkli veri tipleri bulunan 5 elemanli bir seri olusturunuz.\n",
    "ser = pd.Series(data=np.arange(1,6), index=['A', 'B', 'C', 'D', 'E'])\n",
    "ser"
   ]
  },
  {
   "cell_type": "code",
   "execution_count": 138,
   "id": "e06699d1",
   "metadata": {},
   "outputs": [
    {
     "data": {
      "text/plain": [
       "Turkey         Istanbul\n",
       "Spain            Madrid\n",
       "Netherland    Amsterdam\n",
       "England          London\n",
       "France            Paris\n",
       "dtype: object"
      ]
     },
     "execution_count": 138,
     "metadata": {},
     "output_type": "execute_result"
    }
   ],
   "source": [
    "# 29.\tKey’ler ulke adlari, value’lar baskentleri olacak sekilde 5 elemanli bir sozluk olusturup onu seriye ceviriniz. (ornek: fransa:paris)\n",
    "countries = pd.Series(data=('Istanbul', 'Madrid', 'Amsterdam', 'London', 'Paris'), index=['Turkey','Spain','Netherland','England','France'])\n",
    "countries"
   ]
  },
  {
   "cell_type": "code",
   "execution_count": 139,
   "id": "2f2b7980",
   "metadata": {},
   "outputs": [
    {
     "data": {
      "text/plain": [
       "Istanbul         Turkey\n",
       "Madrid            Spain\n",
       "Amsterdam    Netherland\n",
       "London          England\n",
       "Paris            France\n",
       "dtype: object"
      ]
     },
     "execution_count": 139,
     "metadata": {},
     "output_type": "execute_result"
    }
   ],
   "source": [
    "keys = ['Istanbul', 'Madrid', 'Amsterdam', 'London', 'Paris']\n",
    "values = ['Turkey','Spain','Netherland','England','France']\n",
    "pd.Series(values,keys)"
   ]
  },
  {
   "cell_type": "code",
   "execution_count": 152,
   "id": "465e5b3f",
   "metadata": {},
   "outputs": [
    {
     "data": {
      "text/plain": [
       "d    2\n",
       "e    3\n",
       "f    1\n",
       "g    3\n",
       "h    8\n",
       "i    9\n",
       "j    0\n",
       "dtype: int32"
      ]
     },
     "execution_count": 152,
     "metadata": {},
     "output_type": "execute_result"
    }
   ],
   "source": [
    "# 30.\t10 elemanli random bir vektor olusturun.\n",
    "a = np.random.randint(0,10,10)\n",
    "# * Vektoru seriye cevirip indexleri str olarak belirleyin. \n",
    "# (ornek: a,b,c,d,e,f,g.. seklinde)\n",
    "\n",
    "ser = pd.Series(data=a,index=['a', 'b', 'c', 'd', 'e', 'f', 'g', 'h', 'i', 'j'])\n",
    "\n",
    "# list(\"abcdefghij\")\n",
    "# ser = pd.Series(a,list(\"abcdefghij\"))\n",
    "\n",
    "# * Index ismine gore serinin 3. elemanina ulasin. \n",
    "# (ornek: c indexine karsilik gelen deger)\n",
    "ser['c']\n",
    "\n",
    "# * Serinin index sirasina gore 1. Elamanina ulasin.\n",
    "ser['a']\n",
    "\n",
    "# * Index ismine gore serinin  2. Ve 7. Elemanlarina ayni anda ulasin. \n",
    "# (Ornek: b ve g indexine karsilik gelen degerler)\n",
    "ser[['b','g']]\n",
    "\n",
    "# * Index ismi ile serinin 2. Ve 7. Elemanlari arasindaki degerleri yazdirin.\n",
    "# (Ornek: b,c,d,e,f,g indexlerine karsilik gelen degerler)\n",
    "ser['b':'g']\n",
    "\n",
    "# * Index sirasiyla serinin 4. indexinden son indexine kadar olan degerleri yazdirin.\n",
    "ser['d':]\n"
   ]
  },
  {
   "cell_type": "code",
   "execution_count": 170,
   "id": "0e137b91",
   "metadata": {},
   "outputs": [
    {
     "name": "stdout",
     "output_type": "stream",
     "text": [
      "0    0\n",
      "1    1\n",
      "2    2\n",
      "3    3\n",
      "4    4\n",
      "dtype: int64\n",
      "0    a\n",
      "1    b\n",
      "2    c\n",
      "3    d\n",
      "4    e\n",
      "dtype: object\n",
      "0    0\n",
      "1    1\n",
      "2    2\n",
      "3    3\n",
      "4    4\n",
      "0    a\n",
      "1    b\n",
      "2    c\n",
      "3    d\n",
      "4    e\n",
      "dtype: object\n",
      "1     0\n",
      "2     1\n",
      "3     2\n",
      "4     3\n",
      "5     4\n",
      "6     a\n",
      "7     b\n",
      "8     c\n",
      "9     d\n",
      "10    e\n",
      "dtype: object\n"
     ]
    },
    {
     "data": {
      "text/plain": [
       "5    4\n",
       "6    a\n",
       "7    b\n",
       "dtype: object"
      ]
     },
     "execution_count": 170,
     "metadata": {},
     "output_type": "execute_result"
    }
   ],
   "source": [
    "# 31.\t2 adet 5 elemanli seri olusturun.\n",
    "s1 = pd.Series(range(0,5))\n",
    "print(s1)\n",
    "# s2 = pd.Series(list(\"abcde\"))\n",
    "s2 = pd.Series(['a', 'b', 'c', 'd', 'e'])\n",
    "print(s2)\n",
    "\n",
    "# * Olusturdugunuz serileri birlestirin.\n",
    "s3 = pd.concat([s1,s2])\n",
    "print(s3)\n",
    "\n",
    "# * Birlesen 10 elemanli serinin indexini 1’den 10’a kadar olacak sekilde duzenleyin.\n",
    "s3.index = range(1,11)\n",
    "print(s3)\n",
    "\n",
    "# * Indexini duzenlediginiz seride, loc ve iloc metodlari ile, indexi 4,5,6 olan degerlere ulasin.\n",
    "s3.loc[4:6]\n",
    "\n",
    "s3.iloc[3:7]"
   ]
  },
  {
   "cell_type": "code",
   "execution_count": 172,
   "id": "34467662",
   "metadata": {},
   "outputs": [
    {
     "ename": "TypeError",
     "evalue": "'list' object is not callable",
     "output_type": "error",
     "traceback": [
      "\u001b[1;31m---------------------------------------------------------------------------\u001b[0m",
      "\u001b[1;31mTypeError\u001b[0m                                 Traceback (most recent call last)",
      "\u001b[1;32m~\\AppData\\Local\\Temp/ipykernel_2084/92990569.py\u001b[0m in \u001b[0;36m<module>\u001b[1;34m\u001b[0m\n\u001b[0;32m     13\u001b[0m     \u001b[0mm2\u001b[0m \u001b[1;33m=\u001b[0m \u001b[0mmatrix\u001b[0m\u001b[1;33m[\u001b[0m\u001b[1;36m1\u001b[0m\u001b[1;33m]\u001b[0m\u001b[1;33m\u001b[0m\u001b[1;33m\u001b[0m\u001b[0m\n\u001b[0;32m     14\u001b[0m     \u001b[0mdiag\u001b[0m \u001b[1;33m=\u001b[0m \u001b[0mabs\u001b[0m\u001b[1;33m(\u001b[0m\u001b[0mnp\u001b[0m\u001b[1;33m.\u001b[0m\u001b[0mdiag\u001b[0m\u001b[1;33m(\u001b[0m\u001b[0mm1\u001b[0m\u001b[1;33m-\u001b[0m\u001b[0mm2\u001b[0m\u001b[1;33m)\u001b[0m\u001b[1;33m)\u001b[0m\u001b[1;33m\u001b[0m\u001b[1;33m\u001b[0m\u001b[0m\n\u001b[1;32m---> 15\u001b[1;33m     \u001b[1;32mif\u001b[0m \u001b[0mlen\u001b[0m\u001b[1;33m(\u001b[0m\u001b[0mlist\u001b[0m\u001b[1;33m(\u001b[0m\u001b[0mfilter\u001b[0m\u001b[1;33m(\u001b[0m\u001b[1;32mlambda\u001b[0m \u001b[0mx\u001b[0m\u001b[1;33m:\u001b[0m \u001b[0mx\u001b[0m\u001b[1;33m>\u001b[0m\u001b[1;36m0.1\u001b[0m\u001b[1;33m,\u001b[0m \u001b[0mdiag\u001b[0m\u001b[1;33m)\u001b[0m\u001b[1;33m)\u001b[0m\u001b[1;33m)\u001b[0m\u001b[1;33m==\u001b[0m\u001b[1;36m0\u001b[0m\u001b[1;33m:\u001b[0m\u001b[1;33m\u001b[0m\u001b[1;33m\u001b[0m\u001b[0m\n\u001b[0m\u001b[0;32m     16\u001b[0m         \u001b[1;32mbreak\u001b[0m\u001b[1;33m\u001b[0m\u001b[1;33m\u001b[0m\u001b[0m\n\u001b[0;32m     17\u001b[0m \u001b[0mt2\u001b[0m\u001b[1;33m=\u001b[0m\u001b[0mtime\u001b[0m\u001b[1;33m.\u001b[0m\u001b[0mtime\u001b[0m\u001b[1;33m(\u001b[0m\u001b[1;33m)\u001b[0m\u001b[1;33m\u001b[0m\u001b[1;33m\u001b[0m\u001b[0m\n",
      "\u001b[1;31mTypeError\u001b[0m: 'list' object is not callable"
     ]
    }
   ],
   "source": [
    "# Master odev ;\n",
    "# Bir dongu icerisinde random olacak sekilde iki tane 20x20’luk matris uretin ve bu matrislerin farklarini alin. Ve fark matrisinin diagonali, -0.1 ile 0.1 arasinda olana kadar bu islemi tekrarlayin. Istenilen matris bulundugunda program dursun ve toplam kac dongunun kuruldugunu, ne kadar sure icinde buldugunu ve istenilen matrisi print ile birlikte ekrana yazdiriniz. \n",
    "# * Tavsiye: 20 x 20 luk matrisin bulunmasi saatler surebilir. Bu yuzden algoritmanizin dogrulugunu test etmek icin once 4x4, 5x5 gibi kucuk matrislerde deneyebilirsiniz. Ve matris sayisisini arttirarak en son 20x20 u deneyebilirsiniz. \n",
    "# (Matris uretme islemini np.random.random((a,b)) fonksiyonu ile yapabilirsiniz. 0-1 arasi istenen boyutlarda array uretir.)\n",
    "\n",
    "\n",
    "\n",
    "\n",
    "\n",
    "\n",
    "\n"
   ]
  },
  {
   "cell_type": "code",
   "execution_count": null,
   "id": "89551043",
   "metadata": {},
   "outputs": [],
   "source": []
  }
 ],
 "metadata": {
  "kernelspec": {
   "display_name": "Python 3.10.5 64-bit",
   "language": "python",
   "name": "python3"
  },
  "language_info": {
   "codemirror_mode": {
    "name": "ipython",
    "version": 3
   },
   "file_extension": ".py",
   "mimetype": "text/x-python",
   "name": "python",
   "nbconvert_exporter": "python",
   "pygments_lexer": "ipython3",
   "version": "3.10.5"
  },
  "vscode": {
   "interpreter": {
    "hash": "1a07f8bfe2d1e0cd0e01e942b9012f19f1f764f57e70f3a161b052843d360989"
   }
  }
 },
 "nbformat": 4,
 "nbformat_minor": 5
}
